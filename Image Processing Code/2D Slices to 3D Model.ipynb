{
 "cells": [
  {
   "cell_type": "code",
   "execution_count": 16,
   "id": "1d6b7d5d",
   "metadata": {
    "scrolled": false
   },
   "outputs": [
    {
     "name": "stdout",
     "output_type": "stream",
     "text": [
      "(432, 288)\n",
      "\\Balls_0.0mm.png\n",
      "\\Balls_1.0mm.png\n",
      "\\Balls_2.0mm.png\n",
      "\\Balls_3.0mm.png\n",
      "\\Balls_4.0mm.png\n",
      "\\Balls_5.0mm.png\n",
      "\\Balls_6.0mm.png\n",
      "\\Balls_7.0mm.png\n",
      "\\Balls_8.0mm.png\n",
      "\\Balls_9.0mm.png\n",
      "\\Balls_10.0mm.png\n",
      "\\Balls_11.0mm.png\n",
      "\\Balls_12.0mm.png\n",
      "\\Balls_13.0mm.png\n",
      "\\Balls_14.0mm.png\n",
      "\\Balls_15.0mm.png\n",
      "\\Balls_16.0mm.png\n"
     ]
    },
    {
     "data": {
      "application/vnd.jupyter.widget-view+json": {
       "model_id": "fecf16635e744dbf861f66a3663dd36a",
       "version_major": 2,
       "version_minor": 0
      },
      "text/plain": [
       "VBox(children=(VBox(children=(HBox(children=(Label(value='levels:'), FloatSlider(value=0.1, max=1.0, step=0.00…"
      ]
     },
     "metadata": {},
     "output_type": "display_data"
    }
   ],
   "source": [
    "from PIL import Image\n",
    "import ipyvolume as ipv\n",
    "import numpy as np\n",
    "import matplotlib.pyplot as plt\n",
    "\n",
    "# Get first image to the dimensions of array\n",
    "PATH = r'C:\\Users\\mrand\\Desktop\\SENG4120A Indivdual Project Files\\ScanData'\n",
    "SCAN = '\\RedJellyWholeSample_X17@1.0_Y13@0.25_T180@10_1610133453\\Reconstructions'\n",
    "image = Image.open(PATH + SCAN + '\\Balls_0.0mm.png', 'r') #open image\n",
    "print(image.size)\n",
    "# image.show() # show image\n",
    "\n",
    "# Create a 3D array of size of image by 11\n",
    "stack = np.ndarray(shape=(image.size[1], image.size[0], 17)) # create an empty stack of images (set the stack size)\n",
    "\n",
    "for number in range(17):\n",
    "    \n",
    "    imageName = '\\Balls_' + str(number) + '.0mm.png'\n",
    "    \n",
    "    image = Image.open(PATH+SCAN+ imageName , 'r').convert('L')\n",
    "    \n",
    "    i = np.asarray(image) # convert image to array\n",
    "    \n",
    "    stack[:, :, number] = i #fill empty array with image\n",
    "    print(imageName)\n",
    "    \n",
    "ipv.figure()\n",
    "ipv.volshow(stack,tf=None)\n",
    "ipv.show()"
   ]
  },
  {
   "cell_type": "code",
   "execution_count": 10,
   "id": "24cbf3c6",
   "metadata": {},
   "outputs": [],
   "source": [
    "#  Save 3D Model\n",
    "\n",
    "ipv.pylab.save(\"Model.html\", makedirs=True, title='IPyVolume Widget', all_states=False, offline=False, scripts_path='js', drop_defaults=False, template_options=(('extra_script_head', ''), ('body_pre', ''), ('body_post', '')), devmode=False, offline_cors=False)"
   ]
  },
  {
   "cell_type": "code",
   "execution_count": null,
   "id": "8abbabc6",
   "metadata": {},
   "outputs": [],
   "source": []
  }
 ],
 "metadata": {
  "kernelspec": {
   "display_name": "Python 3",
   "language": "python",
   "name": "python3"
  },
  "language_info": {
   "codemirror_mode": {
    "name": "ipython",
    "version": 3
   },
   "file_extension": ".py",
   "mimetype": "text/x-python",
   "name": "python",
   "nbconvert_exporter": "python",
   "pygments_lexer": "ipython3",
   "version": "3.8.8"
  }
 },
 "nbformat": 4,
 "nbformat_minor": 5
}
